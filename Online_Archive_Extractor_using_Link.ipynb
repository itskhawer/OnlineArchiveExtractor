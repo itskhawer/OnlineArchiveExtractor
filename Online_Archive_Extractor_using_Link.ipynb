{
  "cells": [
    {
      "cell_type": "markdown",
      "metadata": {
        "id": "view-in-github",
        "colab_type": "text"
      },
      "source": [
        "<a href=\"https://colab.research.google.com/github/itskhawer/OnlineArchiveExtractor/blob/main/Online_Archive_Extractor_using_Link.ipynb\" target=\"_parent\"><img src=\"https://colab.research.google.com/assets/colab-badge.svg\" alt=\"Open In Colab\"/></a>"
      ]
    },
    {
      "cell_type": "code",
      "execution_count": 1,
      "metadata": {
        "colab": {
          "base_uri": "https://localhost:8080/"
        },
        "id": "NxEHkptjdPAp",
        "outputId": "e6051b77-ebdc-4df9-e183-edac993f2049"
      },
      "outputs": [
        {
          "name": "stdout",
          "output_type": "stream",
          "text": [
            "Requirement already satisfied: rarfile in /usr/local/lib/python3.10/dist-packages (4.2)\n",
            "Drive already mounted at /content/drive; to attempt to forcibly remount, call drive.mount(\"/content/drive\", force_remount=True).\n",
            "Enter the link to the compressed file: https://archive.org/download/princess-bride/Princess%20Bride.rar\n"
          ]
        },
        {
          "output_type": "stream",
          "name": "stderr",
          "text": [
            "Downloading: 100%|██████████| 1.01G/1.01G [08:42<00:00, 1.93MB/s]\n"
          ]
        },
        {
          "output_type": "stream",
          "name": "stdout",
          "text": [
            "File downloaded successfully!\n"
          ]
        },
        {
          "output_type": "stream",
          "name": "stderr",
          "text": [
            "Extracting File 1/1: 100%|██████████| 977M/977M [00:26<00:00, 36.5MB/s]\n"
          ]
        },
        {
          "output_type": "stream",
          "name": "stdout",
          "text": [
            "\n",
            "Extracted files to /content/drive/My Drive/Extracted/Princess%20Bride\n",
            "Deleted the compressed file: /content/Princess%20Bride.rar\n"
          ]
        }
      ],
      "source": [
        "import os\n",
        "import shutil\n",
        "import requests\n",
        "import zipfile\n",
        "!pip install rarfile\n",
        "import rarfile\n",
        "import tarfile\n",
        "from google.colab import drive\n",
        "from tqdm import tqdm\n",
        "\n",
        "# Mount Google Drive\n",
        "drive.mount('/content/drive')\n",
        "\n",
        "# Ensure the 'Extracted' folder exists\n",
        "extract_folder = \"/content/drive/My Drive/Extracted\"\n",
        "os.makedirs(extract_folder, exist_ok=True)\n",
        "\n",
        "\n",
        "def download_file(url, temp_save_path):\n",
        "    \"\"\"\n",
        "    Downloads a file from the given URL to a temporary location.\n",
        "\n",
        "    :param url: URL of the file to download\n",
        "    :param temp_save_path: Temporary file save location\n",
        "    :return: None\n",
        "    \"\"\"\n",
        "    try:\n",
        "        # Send a GET request to the URL\n",
        "        response = requests.get(url, stream=True)\n",
        "        response.raise_for_status()  # Raise an exception for bad status codes\n",
        "\n",
        "        # Get the total file size\n",
        "        file_size = int(response.headers.get('content-length', 0))\n",
        "\n",
        "        # Initialize the progress bar\n",
        "        progress_bar = tqdm(total=file_size, unit='B', unit_scale=True, desc=\"Downloading\")\n",
        "\n",
        "        # Write content to the temporary file\n",
        "        with open(temp_save_path, 'wb') as file:\n",
        "            for chunk in response.iter_content(chunk_size=1024):\n",
        "                if chunk:  # Skip empty chunks\n",
        "                    file.write(chunk)\n",
        "                    progress_bar.update(len(chunk))\n",
        "\n",
        "        progress_bar.close()\n",
        "        print(\"File downloaded successfully!\")\n",
        "    except requests.exceptions.RequestException as err:\n",
        "        print(f\"Error during download: {err}\")\n",
        "        raise\n",
        "\n",
        "\n",
        "def extract_file(file_path, extract_to):\n",
        "    \"\"\"\n",
        "    Extract the file from a given file path to the specified directory.\n",
        "    The progress bar updates continuously during extraction.\n",
        "    \"\"\"\n",
        "    try:\n",
        "        total_size = 0\n",
        "        extracted_size = 0\n",
        "        chunk_size = 8192  # 8KB chunks to read during extraction\n",
        "        total_files = 0\n",
        "        current_file = 0\n",
        "\n",
        "        # Determine total size of the compressed file and total files\n",
        "        if file_path.endswith('.zip'):\n",
        "            with zipfile.ZipFile(file_path, 'r') as zip_ref:\n",
        "                total_size = sum(zinfo.file_size for zinfo in zip_ref.infolist())\n",
        "                total_files = len(zip_ref.infolist())\n",
        "        elif file_path.endswith('.rar'):\n",
        "            with rarfile.RarFile(file_path, 'r') as rar_ref:\n",
        "                total_size = sum(rinfo.file_size for rinfo in rar_ref.infolist())\n",
        "                total_files = len(rar_ref.infolist())\n",
        "        elif file_path.endswith(('.tar', '.tar.gz', '.tgz', '.tar.bz2')):\n",
        "            with tarfile.open(file_path, 'r') as tar_ref:\n",
        "                total_size = sum(member.size for member in tar_ref.getmembers())\n",
        "                total_files = len(tar_ref.getmembers())\n",
        "        else:\n",
        "            print(\"Unsupported file format. Please upload a .zip, .rar, or .tar file.\")\n",
        "            return False\n",
        "\n",
        "        # Initialize progress bar with ncols parameter to avoid it going to the next line\n",
        "        progress_bar = tqdm(total=total_size, unit='B', unit_scale=True, desc=\"Extracting\")\n",
        "\n",
        "        # Extract files with progress monitoring\n",
        "        if file_path.endswith('.zip'):\n",
        "            with zipfile.ZipFile(file_path, 'r') as zip_ref:\n",
        "                for zinfo in zip_ref.infolist():\n",
        "                    current_file += 1\n",
        "                    progress_bar.set_description(f\"Extracting File {current_file}/{total_files}\")\n",
        "                    with zip_ref.open(zinfo) as src, open(os.path.join(extract_to, zinfo.filename), 'wb') as dest:\n",
        "                        # Copy in chunks and update progress bar\n",
        "                        while True:\n",
        "                            chunk = src.read(chunk_size)\n",
        "                            if not chunk:\n",
        "                                break\n",
        "                            dest.write(chunk)\n",
        "                            extracted_size += len(chunk)\n",
        "                            progress_bar.update(len(chunk))\n",
        "        elif file_path.endswith('.rar'):\n",
        "            with rarfile.RarFile(file_path, 'r') as rar_ref:\n",
        "                for rinfo in rar_ref.infolist():\n",
        "                    current_file += 1\n",
        "                    progress_bar.set_description(f\"Extracting File {current_file}/{total_files}\")\n",
        "                    with rar_ref.open(rinfo) as src, open(os.path.join(extract_to, rinfo.filename), 'wb') as dest:\n",
        "                        # Copy in chunks and update progress bar\n",
        "                        while True:\n",
        "                            chunk = src.read(chunk_size)\n",
        "                            if not chunk:\n",
        "                                break\n",
        "                            dest.write(chunk)\n",
        "                            extracted_size += len(chunk)\n",
        "                            progress_bar.update(len(chunk))\n",
        "        elif file_path.endswith(('.tar', '.tar.gz', '.tgz', '.tar.bz2')):\n",
        "            with tarfile.open(file_path, 'r') as tar_ref:\n",
        "                for member in tar_ref.getmembers():\n",
        "                    current_file += 1\n",
        "                    progress_bar.set_description(f\"Extracting File {current_file}/{total_files}\")\n",
        "                    with tar_ref.extractfile(member) as src, open(os.path.join(extract_to, member.name), 'wb') as dest:\n",
        "                        # Copy in chunks and update progress bar\n",
        "                        while True:\n",
        "                            chunk = src.read(chunk_size)\n",
        "                            if not chunk:\n",
        "                                break\n",
        "                            dest.write(chunk)\n",
        "                            extracted_size += len(chunk)\n",
        "                            progress_bar.update(len(chunk))\n",
        "\n",
        "        progress_bar.close()\n",
        "        print(f\"\\nExtracted files to {extract_to}\")\n",
        "        return True\n",
        "\n",
        "    except Exception as e:\n",
        "        print(f\"Error during extraction: {e}\")\n",
        "        return False\n",
        "\n",
        "\n",
        "def main():\n",
        "    url = input(\"Enter the link to the compressed file: \").strip()\n",
        "    file_name = url.split(\"/\")[-1]\n",
        "    download_path = f\"/content/{file_name}\"\n",
        "\n",
        "    try:\n",
        "        # Step 1: Download the file\n",
        "        download_file(url, download_path)\n",
        "\n",
        "        # Step 2: Create a unique folder for extracted files\n",
        "        base_name = os.path.splitext(file_name)[0]\n",
        "        output_folder = os.path.join(extract_folder, base_name)\n",
        "        os.makedirs(output_folder, exist_ok=True)\n",
        "\n",
        "        # Step 3: Extract the file\n",
        "        success = extract_file(download_path, output_folder)\n",
        "\n",
        "        # Step 4: Delete the compressed file if extraction was successful\n",
        "        if success:\n",
        "            os.remove(download_path)\n",
        "            print(f\"Deleted the compressed file: {download_path}\")\n",
        "\n",
        "    except Exception as e:\n",
        "        print(f\"An error occurred: {e}\")\n",
        "\n",
        "\n",
        "if __name__ == \"__main__\":\n",
        "    main()\n"
      ]
    },
    {
      "cell_type": "code",
      "execution_count": 1,
      "metadata": {
        "id": "9vuYq0h7GvVn"
      },
      "outputs": [],
      "source": []
    }
  ],
  "metadata": {
    "colab": {
      "provenance": [],
      "authorship_tag": "ABX9TyNohGb3+eyRHAWIaiau3efe",
      "include_colab_link": true
    },
    "kernelspec": {
      "display_name": "Python 3",
      "name": "python3"
    },
    "language_info": {
      "name": "python"
    }
  },
  "nbformat": 4,
  "nbformat_minor": 0
}